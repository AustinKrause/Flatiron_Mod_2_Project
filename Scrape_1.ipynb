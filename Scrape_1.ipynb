{
 "cells": [
  {
   "cell_type": "code",
   "execution_count": 590,
   "metadata": {},
   "outputs": [],
   "source": [
    "import requests\n",
    "from bs4 import BeautifulSoup, Comment\n",
    "import pandas as pd\n",
    "import numpy as np\n",
    "import seaborn as sns\n",
    "import statsmodels.api as sm\n",
    "from statsmodels.formula.api import ols\n",
    "from mpl_toolkits.mplot3d import Axes3D\n",
    "import matplotlib.pyplot as plt\n",
    "from scipy import stats"
   ]
  },
  {
   "cell_type": "code",
   "execution_count": 22,
   "metadata": {},
   "outputs": [],
   "source": [
    "#dictionary to convert full team names to abreviations\n",
    "#will be needed when merging dataframes\n",
    "team_names_dict = {'Atlanta Braves': 'ATL','Baltimore Orioles': 'BAL','Boston Red Sox': 'BOS', \n",
    "                   'California Angels': 'CAL', 'Chicago Cubs': 'CHC','Chicago White Sox': 'CHW',\n",
    "                   'Cincinnati Reds': 'CIN', 'Cleveland Indians': 'CLE','Detroit Tigers': 'DET', \n",
    "                   'Houston Astros': 'HOU', 'Kansas City Royals': 'KCR', 'Los Angeles Dodgers': 'LAD', \n",
    "                   'Milwaukee Brewers': 'MIL', 'Minnesota Twins': 'MIN', 'Montreal Expos': 'MON',\n",
    "                   'New York Mets': 'NYM', 'New York Yankees': 'NYY', 'Oakland Athletics': 'OAK', \n",
    "                   'Philadelphia Phillies': 'PHI', 'Pittsburgh Pirates': 'PIT','San Diego Padres': 'SDP', \n",
    "                   'Seattle Mariners': 'SEA', 'San Francisco Giants': 'SFG', \n",
    "                   'St. Louis Cardinals': 'STL', 'Texas Rangers': 'TEX','Toronto Blue Jays': 'TOR', \n",
    "                   'Colorado Rockies': 'COL', 'Florida Marlins': 'FLA', 'Anaheim Angels': 'ANA', \n",
    "                   'Arizona Diamondbacks': 'ARI','Tampa Bay Devil Rays': 'TBD', 'Los Angeles Angels': 'LAA', \n",
    "                   'Washington Nationals': 'WSN', 'Tampa Bay Rays': 'TBR', 'Miami Marlins': 'MIA', \n",
    "                   'Los Angeles Angels of Anaheim': 'LAA'}\n"
   ]
  },
  {
   "cell_type": "code",
   "execution_count": 520,
   "metadata": {},
   "outputs": [],
   "source": [
    "def get_stats(year_1, year_2):\n",
    "    #create empty variable to hold final merged df's\n",
    "    final_df = None\n",
    "    \n",
    "    for year in range(year_1, year_2+1):\n",
    "        print('Starting year', year)\n",
    "        \n",
    "        ###get final standings for each division\n",
    "        div_standings = pd.read_html('https://www.baseball-reference.com/leagues/MLB/'+str(year)+'-standings.shtml#site_menu_link')\n",
    "        #create empty variable to hold concatenated df's\n",
    "        \n",
    "        mlb_standings = None\n",
    "        for i in range(len(div_standings)):\n",
    "            mlb_standings = pd.concat([mlb_standings, div_standings[i]], ignore_index = True)\n",
    "\n",
    "        #get list of all team names to compare to dictionary keys\n",
    "        full_names= list(mlb_standings.Tm)\n",
    "\n",
    "        #create empty list to hold abreviations for each team name\n",
    "        abrevs=[]\n",
    "        for name in full_names:\n",
    "            abrevs.append(team_names_dict[name])\n",
    "\n",
    "        #create new column for abreviations\n",
    "        mlb_standings['Abv']= abrevs\n",
    "        #sort values by Abv\n",
    "        mlb_standings = mlb_standings.sort_values('Abv')\n",
    "\n",
    "\n",
    "        ###get hitting statistics for each team\n",
    "        team_hitting_data = pd.read_html('https://www.baseball-reference.com/leagues/MLB/'+str(year)+'-standard-batting.shtml')[0][:-3]\n",
    "        #add column for the year of the data\n",
    "        team_hitting_data['Year'] = year\n",
    "        #sort values by Tm\n",
    "        team_hitting_data = team_hitting_data.sort_values('Tm')\n",
    "        \n",
    "\n",
    "        #merge the two dataframes\n",
    "        merged_df = pd.merge(mlb_standings, team_hitting_data, on = mlb_standings.index, how = 'outer')\n",
    "        #concat the merged df to the final df\n",
    "        final_df = pd.concat([final_df, merged_df], ignore_index = True)\n",
    "        print('Finished with year', year)\n",
    "    \n",
    "    return final_df"
   ]
  },
  {
   "cell_type": "code",
   "execution_count": 8,
   "metadata": {},
   "outputs": [
    {
     "name": "stdout",
     "output_type": "stream",
     "text": [
      "Starting year 1990\n",
      "Finished with year 1990\n",
      "Starting year 1991\n",
      "Finished with year 1991\n",
      "Starting year 1992\n",
      "Finished with year 1992\n",
      "Starting year 1993\n",
      "Finished with year 1993\n",
      "Starting year 1994\n",
      "Finished with year 1994\n",
      "Starting year 1995\n",
      "Finished with year 1995\n",
      "Starting year 1996\n",
      "Finished with year 1996\n",
      "Starting year 1997\n",
      "Finished with year 1997\n",
      "Starting year 1998\n",
      "Finished with year 1998\n",
      "Starting year 1999\n",
      "Finished with year 1999\n",
      "Starting year 2000\n",
      "Finished with year 2000\n",
      "Starting year 2001\n",
      "Finished with year 2001\n",
      "Starting year 2002\n",
      "Finished with year 2002\n",
      "Starting year 2003\n",
      "Finished with year 2003\n",
      "Starting year 2004\n",
      "Finished with year 2004\n",
      "Starting year 2005\n",
      "Finished with year 2005\n",
      "Starting year 2006\n",
      "Finished with year 2006\n",
      "Starting year 2007\n",
      "Finished with year 2007\n",
      "Starting year 2008\n",
      "Finished with year 2008\n",
      "Starting year 2009\n",
      "Finished with year 2009\n",
      "Starting year 2010\n",
      "Finished with year 2010\n",
      "Starting year 2011\n",
      "Finished with year 2011\n",
      "Starting year 2012\n",
      "Finished with year 2012\n",
      "Starting year 2013\n",
      "Finished with year 2013\n",
      "Starting year 2014\n",
      "Finished with year 2014\n",
      "Starting year 2015\n",
      "Finished with year 2015\n",
      "Starting year 2016\n",
      "Finished with year 2016\n",
      "Starting year 2017\n",
      "Finished with year 2017\n",
      "Starting year 2018\n",
      "Finished with year 2018\n"
     ]
    }
   ],
   "source": [
    "compiled_df = get_stats(1990,2018)"
   ]
  },
  {
   "cell_type": "code",
   "execution_count": 9,
   "metadata": {},
   "outputs": [],
   "source": [
    "compiled_df.to_csv('TeamData_1990-2018', sep='\\t')"
   ]
  },
  {
   "cell_type": "code",
   "execution_count": null,
   "metadata": {},
   "outputs": [],
   "source": []
  }
 ],
 "metadata": {
  "kernelspec": {
   "display_name": "Python 3",
   "language": "python",
   "name": "python3"
  },
  "language_info": {
   "codemirror_mode": {
    "name": "ipython",
    "version": 3
   },
   "file_extension": ".py",
   "mimetype": "text/x-python",
   "name": "python",
   "nbconvert_exporter": "python",
   "pygments_lexer": "ipython3",
   "version": "3.7.2"
  }
 },
 "nbformat": 4,
 "nbformat_minor": 2
}
